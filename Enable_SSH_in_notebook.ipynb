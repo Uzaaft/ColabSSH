{
  "nbformat": 4,
  "nbformat_minor": 0,
  "metadata": {
    "kernelspec": {
      "display_name": "Python 3",
      "language": "python",
      "name": "python3"
    },
    "language_info": {
      "codemirror_mode": {
        "name": "ipython",
        "version": 3
      },
      "file_extension": ".py",
      "mimetype": "text/x-python",
      "name": "python",
      "nbconvert_exporter": "python",
      "pygments_lexer": "ipython3",
      "version": "3.8.3"
    },
    "colab": {
      "name": "Copy of Enable_SSH_in_notebook.ipynb",
      "provenance": [],
      "collapsed_sections": [],
      "include_colab_link": true
    }
  },
  "cells": [
    {
      "cell_type": "markdown",
      "metadata": {
        "id": "view-in-github",
        "colab_type": "text"
      },
      "source": [
        "<a href=\"https://colab.research.google.com/github/Uzaaft/ColabSSH/blob/master/Enable_SSH_in_notebook.ipynb\" target=\"_parent\"><img src=\"https://colab.research.google.com/assets/colab-badge.svg\" alt=\"Open In Colab\"/></a>"
      ]
    },
    {
      "cell_type": "code",
      "metadata": {
        "id": "JqRDp9yEwfwU",
        "colab_type": "code",
        "colab": {
          "base_uri": "https://localhost:8080/",
          "height": 34
        },
        "outputId": "3a31b627-6b01-44a6-a9a6-63d9d4b264ae"
      },
      "source": [
        "# Install colab_ssh library\n",
        "%%bash\n",
        "pip -q install colab_ssh --upgrade\n",
        "touch .env\n",
        "pip -q install python-dotenv\n",
        "echo Colab_SSH and Python-dotenv is installed!"
      ],
      "execution_count": 3,
      "outputs": [
        {
          "output_type": "stream",
          "text": [
            "Colab_SSH and Python-dotenv is installed!\n"
          ],
          "name": "stdout"
        }
      ]
    },
    {
      "cell_type": "code",
      "metadata": {
        "id": "_K4GWrssgzgo",
        "colab_type": "code",
        "colab": {
          "base_uri": "https://localhost:8080/",
          "height": 51
        },
        "outputId": "51ddabea-0d8b-4074-9757-547953ae556d"
      },
      "source": [
        "from dotenv import load_dotenv\n",
        "import os\n",
        "from getpass import getpass\n",
        "\n",
        "try:\n",
        "  if token:\n",
        "    pass\n",
        "except NameError:\n",
        "    try:\n",
        "      load_dotenv()\n",
        "      if os.getenv(\"token\"):\n",
        "        token = os.getenv(\"token\")\n",
        "      else:\n",
        "        token = getpass(\"Enter your token:\")\n",
        "      with open(\".env\") as env:\n",
        "        env.write(f'export token=\"{token}\"')\n",
        "        env.close()\n",
        "        load_dotenv(\".env\")\n",
        "        token = os.environ['HOME']\n",
        "    except:\n",
        "      pass\n",
        "\n",
        "try:\n",
        "  if password:\n",
        "    pass\n",
        "except NameError:\n",
        "  password = getpass(\"What would you like your password to be?\")"
      ],
      "execution_count": 4,
      "outputs": [
        {
          "output_type": "stream",
          "text": [
            "Enter your token:··········\n",
            "What would you like your password to be?··········\n"
          ],
          "name": "stdout"
        }
      ]
    },
    {
      "cell_type": "code",
      "metadata": {
        "id": "VjMykf8JwvmF",
        "colab_type": "code",
        "colab": {
          "base_uri": "https://localhost:8080/",
          "height": 153
        },
        "outputId": "d1c7dad5-1126-4cc9-9ff3-ec0fd38a92f9"
      },
      "source": [
        "from colab_ssh import launch_ssh\n",
        "launch_ssh(token,password)"
      ],
      "execution_count": 5,
      "outputs": [
        {
          "output_type": "stream",
          "text": [
            "Successfully running 0.tcp.ngrok.io:19932\n",
            "[Optional] You can also connect with VSCode SSH Remote extension using this configuration:\n",
            "\n",
            "\tHost google_colab_ssh\n",
            "\t\tHostName 0.tcp.ngrok.io\n",
            "\t\tUser root\n",
            "\t\tPort 19932\n",
            "\t  \n"
          ],
          "name": "stdout"
        }
      ]
    },
    {
      "cell_type": "markdown",
      "metadata": {
        "id": "Hsxs2GgL2UmX",
        "colab_type": "text"
      },
      "source": [
        "Now you just have to connect to your SSH server by using the information provided above!\n"
      ]
    },
    {
      "cell_type": "code",
      "metadata": {
        "id": "9A40qvBs2Z8V",
        "colab_type": "code",
        "colab": {}
      },
      "source": [
        ""
      ],
      "execution_count": null,
      "outputs": []
    }
  ]
}